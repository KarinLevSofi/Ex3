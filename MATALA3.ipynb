{
 "cells": [
  {
   "cell_type": "markdown",
   "metadata": {},
   "source": [
    "### MATALA 3\n",
    "### KARIN LEV SOFI 206682577"
   ]
  },
  {
   "cell_type": "code",
   "execution_count": 3,
   "metadata": {},
   "outputs": [
    {
     "name": "stdout",
     "output_type": "stream",
     "text": [
      "Requirement already satisfied: googlemaps in c:\\programdata\\anaconda3\\lib\\site-packages (4.10.0)\n",
      "Requirement already satisfied: pandas in c:\\programdata\\anaconda3\\lib\\site-packages (1.0.5)\n",
      "Requirement already satisfied: requests<3.0,>=2.20.0 in c:\\programdata\\anaconda3\\lib\\site-packages (from googlemaps) (2.24.0)\n",
      "Requirement already satisfied: pytz>=2017.2 in c:\\programdata\\anaconda3\\lib\\site-packages (from pandas) (2020.1)\n",
      "Requirement already satisfied: python-dateutil>=2.6.1 in c:\\programdata\\anaconda3\\lib\\site-packages (from pandas) (2.8.1)\n",
      "Requirement already satisfied: numpy>=1.13.3 in c:\\programdata\\anaconda3\\lib\\site-packages (from pandas) (1.18.5)\n",
      "Requirement already satisfied: six>=1.5 in c:\\programdata\\anaconda3\\lib\\site-packages (from python-dateutil>=2.6.1->pandas) (1.15.0)\n",
      "Requirement already satisfied: urllib3!=1.25.0,!=1.25.1,<1.26,>=1.21.1 in c:\\programdata\\anaconda3\\lib\\site-packages (from requests<3.0,>=2.20.0->googlemaps) (1.25.9)\n",
      "Requirement already satisfied: idna<3,>=2.5 in c:\\programdata\\anaconda3\\lib\\site-packages (from requests<3.0,>=2.20.0->googlemaps) (2.10)\n",
      "Requirement already satisfied: certifi>=2017.4.17 in c:\\programdata\\anaconda3\\lib\\site-packages (from requests<3.0,>=2.20.0->googlemaps) (2020.6.20)\n",
      "Requirement already satisfied: chardet<4,>=3.0.2 in c:\\programdata\\anaconda3\\lib\\site-packages (from requests<3.0,>=2.20.0->googlemaps) (3.0.4)\n",
      "\n",
      "[notice] A new release of pip available: 22.1.2 -> 23.1.2\n",
      "[notice] To update, run: python.exe -m pip install --upgrade pip\n"
     ]
    }
   ],
   "source": [
    "#first installing googlemaps pandas to import that.\n",
    "!pip install googlemaps pandas"
   ]
  },
  {
   "cell_type": "code",
   "execution_count": 4,
   "metadata": {},
   "outputs": [],
   "source": [
    "import googlemaps\n",
    "import pandas as pd"
   ]
  },
  {
   "cell_type": "code",
   "execution_count": 5,
   "metadata": {},
   "outputs": [],
   "source": [
    "# Set up the Google Maps API client\n",
    "gmaps = googlemaps.Client(\"API_CODE\")"
   ]
  },
  {
   "cell_type": "code",
   "execution_count": 9,
   "metadata": {},
   "outputs": [],
   "source": [
    "# Read the list of destinations from file\n",
    "path = \"C:\\\\Users\\\\קארין\\\\Desktop\\\\הנדסת תעון - קארין\\\\שנה ג\\\\סמסטר ב\\\\כרייה וניתוח נתונים בפייתון\\\\מטלות\\\\מטלה 3\\\\dests.txt\"\n",
    "with open(path, \"r\") as file:\n",
    "    destinations = [line.strip() for line in file.readlines()]"
   ]
  },
  {
   "cell_type": "code",
   "execution_count": 10,
   "metadata": {},
   "outputs": [],
   "source": [
    "# Initialize an empty list to hold the results\n",
    "results = []"
   ]
  },
  {
   "cell_type": "code",
   "execution_count": 11,
   "metadata": {},
   "outputs": [],
   "source": [
    "# Iterate over the destinations and query the Distance Matrix and Geocode APIs\n",
    "for dest in destinations:\n",
    "    # Query the Distance Matrix API for the distance and duration from Tel Aviv\n",
    "    distance_matrix = gmaps.distance_matrix(\"Tel Aviv\", dest, mode=\"driving\")\n",
    "    distance_km = distance_matrix[\"rows\"][0][\"elements\"][0][\"distance\"][\"value\"] / 1000\n",
    "    duration_min = distance_matrix[\"rows\"][0][\"elements\"][0][\"duration\"][\"value\"] / 60\n",
    "\n",
    "    # Query the Geocode API for the latitude and longitude of the destination\n",
    "    geocode = gmaps.geocode(dest)[0]\n",
    "    latitude = geocode[\"geometry\"][\"location\"][\"lat\"]\n",
    "    longitude = geocode[\"geometry\"][\"location\"][\"lng\"]\n",
    "\n",
    "    # Append the results to the list\n",
    "    results.append([dest, distance_km, duration_min, longitude, latitude])"
   ]
  },
  {
   "cell_type": "code",
   "execution_count": 12,
   "metadata": {},
   "outputs": [],
   "source": [
    "# Create a pandas dataframe from the results\n",
    "df = pd.DataFrame(results, columns=[\"Target\", \"Distance_km\", \"Duration_min\", \"Longitude\", \"Latitude\"])"
   ]
  },
  {
   "cell_type": "code",
   "execution_count": 13,
   "metadata": {},
   "outputs": [
    {
     "name": "stdout",
     "output_type": "stream",
     "text": [
      "      Target  Distance_km  Duration_min  Longitude   Latitude\n",
      "0   Istanbul     1815.227   1262.866667  28.978359  41.008238\n",
      "1  Amsterdam     4545.194   2894.133333   4.904139  52.367573\n",
      "2   Valletta     3792.877   3051.250000  14.514100  35.899237\n",
      "3      Basel     4092.812   2642.383333   7.588576  47.559599\n",
      "4       Doha     2164.477   1358.783333  51.531040  25.285447\n"
     ]
    }
   ],
   "source": [
    "# Print the dataframe\n",
    "print(df)"
   ]
  },
  {
   "cell_type": "code",
   "execution_count": 14,
   "metadata": {},
   "outputs": [
    {
     "name": "stdout",
     "output_type": "stream",
     "text": [
      "      Target  Distance_km  Duration_min  Longitude   Latitude\n",
      "1  Amsterdam     4545.194   2894.133333   4.904139  52.367573\n",
      "3      Basel     4092.812   2642.383333   7.588576  47.559599\n",
      "2   Valletta     3792.877   3051.250000  14.514100  35.899237\n"
     ]
    }
   ],
   "source": [
    "# Find the 3 cities furthest from Tel Aviv\n",
    "furthest_cities = df.nlargest(3, \"Distance_km\")\n",
    "print(furthest_cities)"
   ]
  },
  {
   "cell_type": "code",
   "execution_count": null,
   "metadata": {},
   "outputs": [],
   "source": []
  }
 ],
 "metadata": {
  "kernelspec": {
   "display_name": "Python 3",
   "language": "python",
   "name": "python3"
  },
  "language_info": {
   "codemirror_mode": {
    "name": "ipython",
    "version": 3
   },
   "file_extension": ".py",
   "mimetype": "text/x-python",
   "name": "python",
   "nbconvert_exporter": "python",
   "pygments_lexer": "ipython3",
   "version": "3.8.3"
  }
 },
 "nbformat": 4,
 "nbformat_minor": 4
}
